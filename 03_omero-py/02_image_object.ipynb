{
 "cells": [
  {
   "cell_type": "code",
   "execution_count": 1,
   "id": "f98b0c78-e7b9-480e-9b24-3a72e317212c",
   "metadata": {},
   "outputs": [],
   "source": [
    "import ezomero as ez\n",
    "from getpass import getpass"
   ]
  },
  {
   "cell_type": "code",
   "execution_count": 2,
   "id": "a475cdf6-4be0-4624-bc59-a6f98fd07b22",
   "metadata": {},
   "outputs": [
    {
     "name": "stdin",
     "output_type": "stream",
     "text": [
      "Password for participant-a ········\n"
     ]
    }
   ],
   "source": [
    "USER = \"participant-a\"\n",
    "PWD = getpass(prompt=f\"Password for {USER}\")\n",
    "OMERO_GROUP = \"Workshop Metadata Annotation\"\n",
    "HOST = \"wss://omero-training.gerbi-gmb.de/omero-wss\"\n",
    "PORT = 443"
   ]
  },
  {
   "cell_type": "code",
   "execution_count": 4,
   "id": "b5ac3c87",
   "metadata": {},
   "outputs": [
    {
     "name": "stdout",
     "output_type": "stream",
     "text": [
      "Is connected: True\n"
     ]
    }
   ],
   "source": [
    "conn = ez.connect(USER, PWD, group=OMERO_GROUP, host=HOST, port=PORT, secure=True)\n",
    "print(f\"Is connected: {conn.isConnected()}\")"
   ]
  },
  {
   "cell_type": "markdown",
   "id": "b9a56bd1-b938-480c-af76-f45eb34daa57",
   "metadata": {},
   "source": [
    "# Getting an image object with omero-py"
   ]
  },
  {
   "cell_type": "code",
   "execution_count": 5,
   "id": "ad586a02-c3cc-4478-ad20-a202d9299860",
   "metadata": {},
   "outputs": [],
   "source": [
    "img_o = conn.getObject(\"Image\", 7352)"
   ]
  },
  {
   "cell_type": "code",
   "execution_count": 9,
   "id": "3cc4a38c-974f-40e2-a6a5-30c875c6cf69",
   "metadata": {},
   "outputs": [
    {
     "data": {
      "text/html": [
       "\n",
       "    <!DOCTYPE html>\n",
       "    <html lang=\"en\">\n",
       "    <head>\n",
       "        <meta charset=\"UTF-8\">\n",
       "        <meta name=\"viewport\" content=\"width=device-width, initial-scale=1.0\">\n",
       "        <title>Image Details</title>\n",
       "        <style>\n",
       "            img {\n",
       "                min-width: 250px; /* Set the minimum width for all images */\n",
       "                min-height: 250px; /* Set the minimum height for all images */\n",
       "            }\n",
       "            .align-top {\n",
       "            vertical-align: top;\n",
       "            }\n",
       "            .text-right {\n",
       "            text-align: right;\n",
       "            }\n",
       "        </style>\n",
       "    </head>\n",
       "    \n",
       "<body>\n",
       "\n",
       "    <table>\n",
       "    <tr>\n",
       "        <td><div class=\"thumbnail\">\n",
       "            <img src=\"data:image/jpeg;base64,/9j/4AAQSkZJRgABAgAAAQABAAD/2wBDAAUDBAQEAwUEBAQFBQUGBwwIBwcHBw8KCwkMEQ8SEhEPERATFhwXExQaFRARGCEYGhwdHx8fExciJCIeJBweHx7/2wBDAQUFBQcGBw4ICA4eFBEUHh4eHh4eHh4eHh4eHh4eHh4eHh4eHh4eHh4eHh4eHh4eHh4eHh4eHh4eHh4eHh4eHh7/wAARCABAAEADASIAAhEBAxEB/8QAHwAAAQUBAQEBAQEAAAAAAAAAAAECAwQFBgcICQoL/8QAtRAAAgEDAwIEAwUFBAQAAAF9AQIDAAQRBRIhMUEGE1FhByJxFDKBkaEII0KxwRVS0fAkM2JyggkKFhcYGRolJicoKSo0NTY3ODk6Q0RFRkdISUpTVFVWV1hZWmNkZWZnaGlqc3R1dnd4eXqDhIWGh4iJipKTlJWWl5iZmqKjpKWmp6ipqrKztLW2t7i5usLDxMXGx8jJytLT1NXW19jZ2uHi4+Tl5ufo6erx8vP09fb3+Pn6/8QAHwEAAwEBAQEBAQEBAQAAAAAAAAECAwQFBgcICQoL/8QAtREAAgECBAQDBAcFBAQAAQJ3AAECAxEEBSExBhJBUQdhcRMiMoEIFEKRobHBCSMzUvAVYnLRChYkNOEl8RcYGRomJygpKjU2Nzg5OkNERUZHSElKU1RVVldYWVpjZGVmZ2hpanN0dXZ3eHl6goOEhYaHiImKkpOUlZaXmJmaoqOkpaanqKmqsrO0tba3uLm6wsPExcbHyMnK0tPU1dbX2Nna4uPk5ebn6Onq8vP09fb3+Pn6/9oADAMBAAIRAxEAPwD48ooor2jEKKKKACiiigAooooAKKKKACiiimlcAooopNWAKKKKACiiigApx6U2irjJJCA0UUVLdwCiiikMKKKKACiiigAooooAKKKKAP/Z\" alt=\"Thumbnail\">\n",
       "        </div></td>\n",
       "        <td class=\"align-top\"><h2>Image information </h2>\n",
       "        \n",
       "    <table>\n",
       "        <tr><th></th><th>ID</th><th>Name</th></tr>\n",
       "        <tr>\n",
       "                <td><b>Image</b></td>\n",
       "                <td class=text-right>7352</td>\n",
       "                <td class=text-right>embryo06_stain.ome.tiff</td>\n",
       "                </tr>\n",
       "            \n",
       "        <tr>\n",
       "                <td><b>Dataset</b></td>\n",
       "                <td class=text-right>208</td>\n",
       "                <td class=text-right>z-stack</td>\n",
       "                </tr>\n",
       "            \n",
       "        <tr>\n",
       "                <td><b>Project</b></td>\n",
       "                <td class=text-right>29</td>\n",
       "                <td class=text-right>example_data</td>\n",
       "                </tr>\n",
       "            \n",
       "    </table>\n",
       "    \n",
       "        </td>\n",
       "    </tr>\n",
       "    </table>\n",
       "    <table>\n",
       "        <tr>\n",
       "            <td>\n",
       "    <table>\n",
       "\n",
       "        <tr>\n",
       "\n",
       "            <td><b>Dimensions (TCZYX): </b></td> <td class=text-right>(\n",
       "        1,\n",
       "        3,\n",
       "        251,\n",
       "        2048,\n",
       "        2048)</td>\n",
       "\n",
       "        </tr>\n",
       "\n",
       "        <tr>\n",
       "\n",
       "            <td><b>Voxel/Pixel dimensions (ZYX): </b></td> <td class=text-right>(na, na, na)</td>\n",
       "\n",
       "        </tr>\n",
       "\n",
       "        <tr>\n",
       "\n",
       "            <td><b>Physical units: </b></td> <td class=text-right>(na, na, na)</td>\n",
       "\n",
       "        </tr>\n",
       "\n",
       "        <tr>\n",
       "\n",
       "            <td><b>Channel Names: </b></td> <td class=text-right>['CENP-A', 'Lamin-B', 'DAPI']</td>\n",
       "\n",
       "        </tr>\n",
       "\n",
       "    </table>\n",
       "    </td>\n",
       "        </tr>\n",
       "    </table>\n",
       "    \n",
       "</body>\n",
       "</html>"
      ],
      "text/plain": [
       "<_ImageWrapper id=7352>"
      ]
     },
     "execution_count": 9,
     "metadata": {},
     "output_type": "execute_result"
    }
   ],
   "source": [
    "img_o"
   ]
  },
  {
   "cell_type": "markdown",
   "id": "a64d2b07-0e1a-4592-820f-f4a76ff84543",
   "metadata": {},
   "source": [
    "# Accessing image properties: img_o.get + TAB"
   ]
  },
  {
   "cell_type": "code",
   "execution_count": 14,
   "id": "edb77a4c-63ea-4d47-9952-14a44f054d8c",
   "metadata": {},
   "outputs": [
    {
     "data": {
      "text/plain": [
       "{'type': 'Dataset',\n",
       " 'id': 208,\n",
       " 'name': 'z-stack',\n",
       " 'description': 'idr0101\\r\\nhttps://idr.openmicroscopy.org/webclient/?show=project-2051\\r\\nCC BY 4.0 https://creativecommons.org/licenses/by/4.0/'}"
      ]
     },
     "execution_count": 14,
     "metadata": {},
     "output_type": "execute_result"
    }
   ],
   "source": [
    "img_o.getParent().simpleMarshal()"
   ]
  },
  {
   "cell_type": "code",
   "execution_count": 12,
   "id": "45e85fd3-6727-4256-b2e8-ca0349f53473",
   "metadata": {},
   "outputs": [
    {
     "data": {
      "text/plain": [
       "{'type': 'Channel', 'id': 7374, 'name': 'CENP-A', 'description': ''}"
      ]
     },
     "execution_count": 12,
     "metadata": {},
     "output_type": "execute_result"
    }
   ],
   "source": [
    "img_o.getChannels()[0].simpleMarshal()"
   ]
  },
  {
   "cell_type": "code",
   "execution_count": 31,
   "id": "110aabed-2d81-47f7-a355-e91f00311519",
   "metadata": {},
   "outputs": [
    {
     "data": {
      "text/plain": [
       "(0.16250000000000142, 0.16249999999999964, 0.398406374501992)"
      ]
     },
     "execution_count": 31,
     "metadata": {},
     "output_type": "execute_result"
    }
   ],
   "source": [
    "img_o.getPixelSizeX(), img_o.getPixelSizeY(), img_o.getPixelSizeZ()"
   ]
  },
  {
   "cell_type": "code",
   "execution_count": 32,
   "id": "241cea78-7cc8-463d-93de-f79de2de2b55",
   "metadata": {},
   "outputs": [
    {
     "data": {
      "text/plain": [
       "'uint16'"
      ]
     },
     "execution_count": 32,
     "metadata": {},
     "output_type": "execute_result"
    }
   ],
   "source": [
    "img_o.getPixelsType()"
   ]
  },
  {
   "cell_type": "code",
   "execution_count": 34,
   "id": "9fdc6eb1-bce3-496b-ae95-aedcbe0425eb",
   "metadata": {},
   "outputs": [
    {
     "data": {
      "text/plain": [
       "(2048, 2048, 3, 251, 1)"
      ]
     },
     "execution_count": 34,
     "metadata": {},
     "output_type": "execute_result"
    }
   ],
   "source": [
    "img_o.getSizeX(), img_o.getSizeY(), img_o.getSizeC(), img_o.getSizeZ(), img_o.getSizeT()"
   ]
  },
  {
   "cell_type": "code",
   "execution_count": 48,
   "id": "0dd06d29-2bdc-421a-ba14-58b56758297e",
   "metadata": {},
   "outputs": [],
   "source": [
    "import matplotlib.pyplot as plt\n",
    "import numpy as np"
   ]
  },
  {
   "cell_type": "code",
   "execution_count": 51,
   "id": "2f7419e5-860a-4144-ba10-b8d11edd9175",
   "metadata": {},
   "outputs": [],
   "source": [
    "row = np.array(img_o.getRow(z=126, t=0, y=1164))"
   ]
  },
  {
   "cell_type": "code",
   "execution_count": 52,
   "id": "81134287-e9ad-4ed0-8600-30d80a5cc8cb",
   "metadata": {},
   "outputs": [
    {
     "data": {
      "text/plain": [
       "[<matplotlib.lines.Line2D at 0x1af9514ba90>,\n",
       " <matplotlib.lines.Line2D at 0x1af94c0a2c0>,\n",
       " <matplotlib.lines.Line2D at 0x1af97dc30d0>]"
      ]
     },
     "execution_count": 52,
     "metadata": {},
     "output_type": "execute_result"
    },
    {
     "data": {
      "image/png": "[encoded data removed]",
      "text/plain": [
       "<Figure size 640x480 with 1 Axes>"
      ]
     },
     "metadata": {},
     "output_type": "display_data"
    }
   ],
   "source": [
    "plt.figure()\n",
    "plt.plot(row.T)"
   ]
  },
  {
   "cell_type": "markdown",
   "id": "99dd0379-5ae2-4a39-a51b-bfded4261c4b",
   "metadata": {},
   "source": [
    "https://omero.readthedocs.io/en/stable/developers/Model/EveryObject.html#omero-model-class-image"
   ]
  }
 ],
 "metadata": {
  "kernelspec": {
   "display_name": "Python 3 (ipykernel)",
   "language": "python",
   "name": "python3"
  },
  "language_info": {
   "codemirror_mode": {
    "name": "ipython",
    "version": 3
   },
   "file_extension": ".py",
   "mimetype": "text/x-python",
   "name": "python",
   "nbconvert_exporter": "python",
   "pygments_lexer": "ipython3",
   "version": "3.10.8"
  }
 },
 "nbformat": 4,
 "nbformat_minor": 5
}
