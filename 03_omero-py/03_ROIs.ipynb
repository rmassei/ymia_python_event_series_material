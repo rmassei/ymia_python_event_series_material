{
 "cells": [
  {
   "cell_type": "code",
   "execution_count": 1,
   "id": "a8d4d883-9ff2-48f1-ae58-62a50641f503",
   "metadata": {},
   "outputs": [],
   "source": [
    "import ezomero as ez\n",
    "from getpass import getpass"
   ]
  },
  {
   "cell_type": "code",
   "execution_count": 2,
   "id": "09dcb028-49bc-4650-90bd-8cca284d6efc",
   "metadata": {},
   "outputs": [
    {
     "name": "stdin",
     "output_type": "stream",
     "text": [
      "Password for participant-a ········\n"
     ]
    }
   ],
   "source": [
    "USER = \"participant-a\"\n",
    "PWD = getpass(prompt=f\"Password for {USER}\")\n",
    "OMERO_GROUP = \"Workshop Metadata Annotation\"\n",
    "HOST = \"wss://omero-training.gerbi-gmb.de/omero-wss\"\n",
    "PORT = 443"
   ]
  },
  {
   "cell_type": "code",
   "execution_count": 15,
   "id": "02616022-ade1-4d40-ad16-e37fa84f333b",
   "metadata": {},
   "outputs": [
    {
     "name": "stdout",
     "output_type": "stream",
     "text": [
      "Is connected: True\n"
     ]
    }
   ],
   "source": [
    "conn = ez.connect(USER, PWD, group=OMERO_GROUP, host=HOST, port=PORT, secure=True)\n",
    "print(f\"Is connected: {conn.isConnected()}\")"
   ]
  },
  {
   "cell_type": "markdown",
   "id": "bbb34ad4-955d-4013-a547-72cbe0265f34",
   "metadata": {},
   "source": [
    "# ROI & shapes\n",
    "A ROI is composed of one or more shapes. Shapes are only 2D, so because ROIs are collections of shapes, we can represent 3D ROIs with multiple shapes"
   ]
  },
  {
   "cell_type": "markdown",
   "id": "5d706e90-037a-4002-9dfd-cb8db6b0b207",
   "metadata": {},
   "source": [
    "### 1 - Create a shape"
   ]
  },
  {
   "cell_type": "markdown",
   "id": "e1d1f47d-00ab-4608-b00c-85bce8b75fa4",
   "metadata": {},
   "source": [
    "https://thejacksonlaboratory.github.io/ezomero/genindex.html"
   ]
  },
  {
   "cell_type": "code",
   "execution_count": 6,
   "id": "06353f42-ee70-4325-bd91-b688baef65c9",
   "metadata": {
    "scrolled": true
   },
   "outputs": [
    {
     "data": {
      "text/plain": [
       "\u001b[1;31mInit signature:\u001b[0m\n",
       "\u001b[0mez\u001b[0m\u001b[1;33m.\u001b[0m\u001b[0mrois\u001b[0m\u001b[1;33m.\u001b[0m\u001b[0mRectangle\u001b[0m\u001b[1;33m(\u001b[0m\u001b[1;33m\n",
       "\u001b[0m    \u001b[0mx\u001b[0m\u001b[1;33m:\u001b[0m \u001b[0mfloat\u001b[0m\u001b[1;33m,\u001b[0m\u001b[1;33m\n",
       "\u001b[0m    \u001b[0my\u001b[0m\u001b[1;33m:\u001b[0m \u001b[0mfloat\u001b[0m\u001b[1;33m,\u001b[0m\u001b[1;33m\n",
       "\u001b[0m    \u001b[0mwidth\u001b[0m\u001b[1;33m:\u001b[0m \u001b[0mfloat\u001b[0m\u001b[1;33m,\u001b[0m\u001b[1;33m\n",
       "\u001b[0m    \u001b[0mheight\u001b[0m\u001b[1;33m:\u001b[0m \u001b[0mfloat\u001b[0m\u001b[1;33m,\u001b[0m\u001b[1;33m\n",
       "\u001b[0m    \u001b[0mz\u001b[0m\u001b[1;33m:\u001b[0m \u001b[0mint\u001b[0m \u001b[1;33m=\u001b[0m \u001b[1;32mNone\u001b[0m\u001b[1;33m,\u001b[0m\u001b[1;33m\n",
       "\u001b[0m    \u001b[0mc\u001b[0m\u001b[1;33m:\u001b[0m \u001b[0mint\u001b[0m \u001b[1;33m=\u001b[0m \u001b[1;32mNone\u001b[0m\u001b[1;33m,\u001b[0m\u001b[1;33m\n",
       "\u001b[0m    \u001b[0mt\u001b[0m\u001b[1;33m:\u001b[0m \u001b[0mint\u001b[0m \u001b[1;33m=\u001b[0m \u001b[1;32mNone\u001b[0m\u001b[1;33m,\u001b[0m\u001b[1;33m\n",
       "\u001b[0m    \u001b[0mlabel\u001b[0m\u001b[1;33m:\u001b[0m \u001b[0mstr\u001b[0m \u001b[1;33m=\u001b[0m \u001b[1;32mNone\u001b[0m\u001b[1;33m,\u001b[0m\u001b[1;33m\n",
       "\u001b[0m\u001b[1;33m)\u001b[0m \u001b[1;33m->\u001b[0m \u001b[1;32mNone\u001b[0m\u001b[1;33m\u001b[0m\u001b[1;33m\u001b[0m\u001b[0m\n",
       "\u001b[1;31mSource:\u001b[0m        \n",
       "\u001b[1;32mclass\u001b[0m \u001b[0mRectangle\u001b[0m\u001b[1;33m:\u001b[0m\u001b[1;33m\n",
       "\u001b[0m    \u001b[1;34m\"\"\"A dataclass used to create an OMERO rectangle.\n",
       "\n",
       "    A dataclass used to represent a Rectangle shape and create an OMERO\n",
       "    equivalent. This dataclass is frozen and should not be modified after\n",
       "    instantiation.\n",
       "\n",
       "    Parameters\n",
       "    ----------\n",
       "    x : float\n",
       "        The x axis position of the rectangle shape in pixels.\n",
       "    y : float\n",
       "        The y axis position of the rectangle shape in pixels.\n",
       "    width : float\n",
       "        The width (x axis) of the rectangle shape in pixels.\n",
       "    height : float\n",
       "        The height (y axis) of the rectangle shape in pixels.\n",
       "    z : int, optional\n",
       "        The z position of the shape in pixels. Note this is the z plane to\n",
       "        which the shape is linked and not the sub-voxel resolution position of\n",
       "        your shape. If ``None``, the Point will not be linked to any z plane.\n",
       "        Default is ``None``.\n",
       "    c : int, optional\n",
       "        The channel index to which the shape is linked.\n",
       "        If None, the shape will not be linked to any channel. Default is\n",
       "        ``None``.\n",
       "    t : int, optional\n",
       "        The time frame to which the shape is linked.\n",
       "        If ``None``, the shape will not be linked to any time frame.\n",
       "        Default is ``None``.\n",
       "    label : str, optional\n",
       "        The label of the shape. Default is ``None``.\n",
       "    \"\"\"\u001b[0m\u001b[1;33m\n",
       "\u001b[0m\u001b[1;33m\n",
       "\u001b[0m    \u001b[0mx\u001b[0m\u001b[1;33m:\u001b[0m \u001b[0mfloat\u001b[0m \u001b[1;33m=\u001b[0m \u001b[0mfield\u001b[0m\u001b[1;33m(\u001b[0m\u001b[0mmetadata\u001b[0m\u001b[1;33m=\u001b[0m\u001b[1;33m{\u001b[0m\u001b[1;34m'units'\u001b[0m\u001b[1;33m:\u001b[0m \u001b[1;34m'PIXELS'\u001b[0m\u001b[1;33m}\u001b[0m\u001b[1;33m)\u001b[0m\u001b[1;33m\n",
       "\u001b[0m    \u001b[0my\u001b[0m\u001b[1;33m:\u001b[0m \u001b[0mfloat\u001b[0m \u001b[1;33m=\u001b[0m \u001b[0mfield\u001b[0m\u001b[1;33m(\u001b[0m\u001b[0mmetadata\u001b[0m\u001b[1;33m=\u001b[0m\u001b[1;33m{\u001b[0m\u001b[1;34m'units'\u001b[0m\u001b[1;33m:\u001b[0m \u001b[1;34m'PIXELS'\u001b[0m\u001b[1;33m}\u001b[0m\u001b[1;33m)\u001b[0m\u001b[1;33m\n",
       "\u001b[0m    \u001b[0mwidth\u001b[0m\u001b[1;33m:\u001b[0m \u001b[0mfloat\u001b[0m \u001b[1;33m=\u001b[0m \u001b[0mfield\u001b[0m\u001b[1;33m(\u001b[0m\u001b[0mmetadata\u001b[0m\u001b[1;33m=\u001b[0m\u001b[1;33m{\u001b[0m\u001b[1;34m'units'\u001b[0m\u001b[1;33m:\u001b[0m \u001b[1;34m'PIXELS'\u001b[0m\u001b[1;33m}\u001b[0m\u001b[1;33m)\u001b[0m\u001b[1;33m\n",
       "\u001b[0m    \u001b[0mheight\u001b[0m\u001b[1;33m:\u001b[0m \u001b[0mfloat\u001b[0m \u001b[1;33m=\u001b[0m \u001b[0mfield\u001b[0m\u001b[1;33m(\u001b[0m\u001b[0mmetadata\u001b[0m\u001b[1;33m=\u001b[0m\u001b[1;33m{\u001b[0m\u001b[1;34m'units'\u001b[0m\u001b[1;33m:\u001b[0m \u001b[1;34m'PIXELS'\u001b[0m\u001b[1;33m}\u001b[0m\u001b[1;33m)\u001b[0m\u001b[1;33m\n",
       "\u001b[0m    \u001b[0mz\u001b[0m\u001b[1;33m:\u001b[0m \u001b[0mint\u001b[0m \u001b[1;33m=\u001b[0m \u001b[0mfield\u001b[0m\u001b[1;33m(\u001b[0m\u001b[0mdefault\u001b[0m\u001b[1;33m=\u001b[0m\u001b[1;32mNone\u001b[0m\u001b[1;33m)\u001b[0m\u001b[1;33m\n",
       "\u001b[0m    \u001b[0mc\u001b[0m\u001b[1;33m:\u001b[0m \u001b[0mint\u001b[0m \u001b[1;33m=\u001b[0m \u001b[0mfield\u001b[0m\u001b[1;33m(\u001b[0m\u001b[0mdefault\u001b[0m\u001b[1;33m=\u001b[0m\u001b[1;32mNone\u001b[0m\u001b[1;33m)\u001b[0m\u001b[1;33m\n",
       "\u001b[0m    \u001b[0mt\u001b[0m\u001b[1;33m:\u001b[0m \u001b[0mint\u001b[0m \u001b[1;33m=\u001b[0m \u001b[0mfield\u001b[0m\u001b[1;33m(\u001b[0m\u001b[0mdefault\u001b[0m\u001b[1;33m=\u001b[0m\u001b[1;32mNone\u001b[0m\u001b[1;33m)\u001b[0m\u001b[1;33m\n",
       "\u001b[0m    \u001b[0mlabel\u001b[0m\u001b[1;33m:\u001b[0m \u001b[0mstr\u001b[0m \u001b[1;33m=\u001b[0m \u001b[0mfield\u001b[0m\u001b[1;33m(\u001b[0m\u001b[0mdefault\u001b[0m\u001b[1;33m=\u001b[0m\u001b[1;32mNone\u001b[0m\u001b[1;33m)\u001b[0m\u001b[1;33m\u001b[0m\u001b[1;33m\u001b[0m\u001b[0m\n",
       "\u001b[1;31mFile:\u001b[0m           c:\\users\\thinkpad_ryzen7\\anaconda3\\envs\\cellpose\\lib\\site-packages\\ezomero\\rois.py\n",
       "\u001b[1;31mType:\u001b[0m           type\n",
       "\u001b[1;31mSubclasses:\u001b[0m     \n"
      ]
     },
     "metadata": {},
     "output_type": "display_data"
    }
   ],
   "source": [
    "ez.rois.Rectangle??"
   ]
  },
  {
   "cell_type": "code",
   "execution_count": 7,
   "id": "dd1b1193-52fd-4844-bccf-02e841344f42",
   "metadata": {},
   "outputs": [
    {
     "data": {
      "text/plain": [
       "Rectangle(x=10, y=50, width=100, height=200, z=None, c=None, t=None, label='Custom rectangle')"
      ]
     },
     "execution_count": 7,
     "metadata": {},
     "output_type": "execute_result"
    }
   ],
   "source": [
    "ez.rois.Rectangle(10,50,100,200, label=\"Custom rectangle\")  # This creates a Rectange object. We need to assign it to a ROI!"
   ]
  },
  {
   "cell_type": "code",
   "execution_count": 8,
   "id": "ac8dac74-f0cd-40dd-8c99-0eff1bb8bb25",
   "metadata": {},
   "outputs": [],
   "source": [
    "my_rectangle = ez.rois.Rectangle(10,50,100,200, label=\"Custom rectangle\")"
   ]
  },
  {
   "cell_type": "markdown",
   "id": "ed8b1245-e5ef-48eb-9392-6d57c90a22a0",
   "metadata": {},
   "source": [
    "### 2 - Post the shape on the image with ezomero"
   ]
  },
  {
   "cell_type": "code",
   "execution_count": 11,
   "id": "57a6550f-c266-4b76-a490-059df096f3c2",
   "metadata": {},
   "outputs": [
    {
     "data": {
      "text/plain": [
       "24106"
      ]
     },
     "execution_count": 11,
     "metadata": {},
     "output_type": "execute_result"
    }
   ],
   "source": [
    "img_id = 7352\n",
    "roi_id = ez.post_roi(conn, \n",
    "                     image_id=img_id, \n",
    "                     shapes=[my_rectangle],              # ezomero creates a ROI from a list of shape\n",
    "                     name=\"ROI_name\", \n",
    "                     description=\"A ROI made for fun\") \n",
    "roi_id"
   ]
  },
  {
   "cell_type": "markdown",
   "id": "f897b721-e5d7-47b3-8b92-dcc67ed71620",
   "metadata": {},
   "source": [
    "### 3 - Polygons"
   ]
  },
  {
   "cell_type": "code",
   "execution_count": 19,
   "id": "3046c2a4-1ffb-44c6-8d39-9cfc5a840608",
   "metadata": {},
   "outputs": [
    {
     "data": {
      "text/plain": [
       "Polygon(points=[(100, 100), (150, 50), (200, 100), (200, 200), (100, 200)], z=None, c=None, t=None, label='test polygon')"
      ]
     },
     "execution_count": 19,
     "metadata": {},
     "output_type": "execute_result"
    }
   ],
   "source": [
    "my_poly = ez.rois.Polygon([(100, 100), (150, 50), (200, 100), (200, 200), (100, 200)], label=\"test polygon\")\n",
    "my_poly"
   ]
  },
  {
   "cell_type": "code",
   "execution_count": 20,
   "id": "817b0ee7-9814-4fa5-a396-54285653e593",
   "metadata": {},
   "outputs": [
    {
     "data": {
      "text/plain": [
       "24109"
      ]
     },
     "execution_count": 20,
     "metadata": {},
     "output_type": "execute_result"
    }
   ],
   "source": [
    "img_id = 7352\n",
    "roi_id = ez.post_roi(conn, \n",
    "                     image_id=img_id, \n",
    "                     shapes=[my_poly])              # ezomero creates a ROI from a list of shape\n",
    "roi_id"
   ]
  },
  {
   "cell_type": "code",
   "execution_count": null,
   "id": "600a8033-6f53-4b5c-adfe-9c1a39ebaa08",
   "metadata": {},
   "outputs": [],
   "source": []
  }
 ],
 "metadata": {
  "kernelspec": {
   "display_name": "cellpose",
   "language": "python",
   "name": "cellpose"
  },
  "language_info": {
   "codemirror_mode": {
    "name": "ipython",
    "version": 3
   },
   "file_extension": ".py",
   "mimetype": "text/x-python",
   "name": "python",
   "nbconvert_exporter": "python",
   "pygments_lexer": "ipython3",
   "version": "3.8.15"
  }
 },
 "nbformat": 4,
 "nbformat_minor": 5
}
